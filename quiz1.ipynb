{
 "cells": [
  {
   "cell_type": "code",
   "execution_count": 404,
   "metadata": {},
   "outputs": [],
   "source": [
    "import pandas as pd\n",
    "from datetime import datetime\n",
    "import seaborn as sns\n",
    "import matplotlib.pyplot as plt"
   ]
  },
  {
   "cell_type": "code",
   "execution_count": 405,
   "metadata": {},
   "outputs": [],
   "source": [
    "df_gov_bonds = pd.read_csv(\"original USA 10-year Government Bond Total Return Index (GFD Indices) 2021_09_14.csv\")\n",
    "df_corp_bonds = pd.read_csv(\"original US AAA Corporate Total Return (GFD Indices) 2021_09_15.csv\")"
   ]
  },
  {
   "cell_type": "code",
   "execution_count": 406,
   "metadata": {},
   "outputs": [
    {
     "data": {
      "text/html": [
       "<div>\n",
       "<style scoped>\n",
       "    .dataframe tbody tr th:only-of-type {\n",
       "        vertical-align: middle;\n",
       "    }\n",
       "\n",
       "    .dataframe tbody tr th {\n",
       "        vertical-align: top;\n",
       "    }\n",
       "\n",
       "    .dataframe thead th {\n",
       "        text-align: right;\n",
       "    }\n",
       "</style>\n",
       "<table border=\"1\" class=\"dataframe\">\n",
       "  <thead>\n",
       "    <tr style=\"text-align: right;\">\n",
       "      <th></th>\n",
       "      <th>Date</th>\n",
       "      <th>Ticker</th>\n",
       "      <th>Close</th>\n",
       "    </tr>\n",
       "  </thead>\n",
       "  <tbody>\n",
       "    <tr>\n",
       "      <td>0</td>\n",
       "      <td>1786/07/31</td>\n",
       "      <td>TRUSG10M</td>\n",
       "      <td>0.057581</td>\n",
       "    </tr>\n",
       "    <tr>\n",
       "      <td>1</td>\n",
       "      <td>1786/08/31</td>\n",
       "      <td>TRUSG10M</td>\n",
       "      <td>0.057581</td>\n",
       "    </tr>\n",
       "    <tr>\n",
       "      <td>2</td>\n",
       "      <td>1786/09/30</td>\n",
       "      <td>TRUSG10M</td>\n",
       "      <td>0.057581</td>\n",
       "    </tr>\n",
       "    <tr>\n",
       "      <td>3</td>\n",
       "      <td>1786/10/31</td>\n",
       "      <td>TRUSG10M</td>\n",
       "      <td>0.057581</td>\n",
       "    </tr>\n",
       "    <tr>\n",
       "      <td>4</td>\n",
       "      <td>1786/11/30</td>\n",
       "      <td>TRUSG10M</td>\n",
       "      <td>0.057581</td>\n",
       "    </tr>\n",
       "  </tbody>\n",
       "</table>\n",
       "</div>"
      ],
      "text/plain": [
       "         Date    Ticker     Close\n",
       "0  1786/07/31  TRUSG10M  0.057581\n",
       "1  1786/08/31  TRUSG10M  0.057581\n",
       "2  1786/09/30  TRUSG10M  0.057581\n",
       "3  1786/10/31  TRUSG10M  0.057581\n",
       "4  1786/11/30  TRUSG10M  0.057581"
      ]
     },
     "execution_count": 406,
     "metadata": {},
     "output_type": "execute_result"
    }
   ],
   "source": [
    "df_gov_bonds.head()"
   ]
  },
  {
   "cell_type": "code",
   "execution_count": 407,
   "metadata": {},
   "outputs": [
    {
     "data": {
      "text/html": [
       "<div>\n",
       "<style scoped>\n",
       "    .dataframe tbody tr th:only-of-type {\n",
       "        vertical-align: middle;\n",
       "    }\n",
       "\n",
       "    .dataframe tbody tr th {\n",
       "        vertical-align: top;\n",
       "    }\n",
       "\n",
       "    .dataframe thead th {\n",
       "        text-align: right;\n",
       "    }\n",
       "</style>\n",
       "<table border=\"1\" class=\"dataframe\">\n",
       "  <thead>\n",
       "    <tr style=\"text-align: right;\">\n",
       "      <th></th>\n",
       "      <th>Date</th>\n",
       "      <th>Ticker</th>\n",
       "      <th>Close</th>\n",
       "    </tr>\n",
       "  </thead>\n",
       "  <tbody>\n",
       "    <tr>\n",
       "      <td>0</td>\n",
       "      <td>1814/12/31</td>\n",
       "      <td>TRUSACOM</td>\n",
       "      <td>0.150922</td>\n",
       "    </tr>\n",
       "    <tr>\n",
       "      <td>1</td>\n",
       "      <td>1815/01/31</td>\n",
       "      <td>TRUSACOM</td>\n",
       "      <td>0.151551</td>\n",
       "    </tr>\n",
       "    <tr>\n",
       "      <td>2</td>\n",
       "      <td>1815/02/28</td>\n",
       "      <td>TRUSACOM</td>\n",
       "      <td>0.152182</td>\n",
       "    </tr>\n",
       "    <tr>\n",
       "      <td>3</td>\n",
       "      <td>1815/03/31</td>\n",
       "      <td>TRUSACOM</td>\n",
       "      <td>0.149876</td>\n",
       "    </tr>\n",
       "    <tr>\n",
       "      <td>4</td>\n",
       "      <td>1815/04/30</td>\n",
       "      <td>TRUSACOM</td>\n",
       "      <td>0.150533</td>\n",
       "    </tr>\n",
       "  </tbody>\n",
       "</table>\n",
       "</div>"
      ],
      "text/plain": [
       "         Date    Ticker     Close\n",
       "0  1814/12/31  TRUSACOM  0.150922\n",
       "1  1815/01/31  TRUSACOM  0.151551\n",
       "2  1815/02/28  TRUSACOM  0.152182\n",
       "3  1815/03/31  TRUSACOM  0.149876\n",
       "4  1815/04/30  TRUSACOM  0.150533"
      ]
     },
     "execution_count": 407,
     "metadata": {},
     "output_type": "execute_result"
    }
   ],
   "source": [
    "df_corp_bonds.head()"
   ]
  },
  {
   "cell_type": "code",
   "execution_count": 408,
   "metadata": {},
   "outputs": [],
   "source": [
    "df_corp_bonds['Date'] = pd.to_datetime(df_corp_bonds['Date'])\n",
    "df_gov_bonds['Date'] = pd.to_datetime(df_gov_bonds['Date'])"
   ]
  },
  {
   "cell_type": "code",
   "execution_count": 409,
   "metadata": {},
   "outputs": [],
   "source": [
    "# Restrict to post world war 2\n",
    "df_corp_bonds = df_corp_bonds[df_corp_bonds[\"Date\"] >= datetime(1949, 12, 1)] \n",
    "df_gov_bonds = df_gov_bonds[df_gov_bonds[\"Date\"] >= datetime(1949, 12, 1)] \n",
    "# .loc[(df_gov_bonds['Date'].dt.month == 1) | (df_gov_bonds['Date'].dt.month == 12)]"
   ]
  },
  {
   "cell_type": "code",
   "execution_count": 410,
   "metadata": {},
   "outputs": [],
   "source": [
    "# Compute change\n",
    "df_corp_bonds[\"change\"] = ((df_corp_bonds[\"Close\"]/df_corp_bonds[\"Close\"].shift(120)) - 1) / 10\n",
    "df_gov_bonds[\"change\"] = ((df_gov_bonds[\"Close\"]/df_gov_bonds[\"Close\"].shift(120)) - 1)/ 10"
   ]
  },
  {
   "cell_type": "code",
   "execution_count": 411,
   "metadata": {},
   "outputs": [
    {
     "data": {
      "text/html": [
       "<div>\n",
       "<style scoped>\n",
       "    .dataframe tbody tr th:only-of-type {\n",
       "        vertical-align: middle;\n",
       "    }\n",
       "\n",
       "    .dataframe tbody tr th {\n",
       "        vertical-align: top;\n",
       "    }\n",
       "\n",
       "    .dataframe thead th {\n",
       "        text-align: right;\n",
       "    }\n",
       "</style>\n",
       "<table border=\"1\" class=\"dataframe\">\n",
       "  <thead>\n",
       "    <tr style=\"text-align: right;\">\n",
       "      <th></th>\n",
       "      <th>Date</th>\n",
       "      <th>Ticker</th>\n",
       "      <th>Close</th>\n",
       "      <th>change</th>\n",
       "    </tr>\n",
       "  </thead>\n",
       "  <tbody>\n",
       "    <tr>\n",
       "      <td>2476</td>\n",
       "      <td>2021-04-30</td>\n",
       "      <td>TRUSACOM</td>\n",
       "      <td>24939.03088</td>\n",
       "      <td>0.071176</td>\n",
       "    </tr>\n",
       "    <tr>\n",
       "      <td>2477</td>\n",
       "      <td>2021-05-31</td>\n",
       "      <td>TRUSACOM</td>\n",
       "      <td>25085.37624</td>\n",
       "      <td>0.069482</td>\n",
       "    </tr>\n",
       "    <tr>\n",
       "      <td>2478</td>\n",
       "      <td>2021-06-30</td>\n",
       "      <td>TRUSACOM</td>\n",
       "      <td>25731.63564</td>\n",
       "      <td>0.075825</td>\n",
       "    </tr>\n",
       "    <tr>\n",
       "      <td>2479</td>\n",
       "      <td>2021-07-31</td>\n",
       "      <td>TRUSACOM</td>\n",
       "      <td>26053.91530</td>\n",
       "      <td>0.073213</td>\n",
       "    </tr>\n",
       "    <tr>\n",
       "      <td>2480</td>\n",
       "      <td>2021-08-31</td>\n",
       "      <td>TRUSACOM</td>\n",
       "      <td>26108.41141</td>\n",
       "      <td>0.067205</td>\n",
       "    </tr>\n",
       "  </tbody>\n",
       "</table>\n",
       "</div>"
      ],
      "text/plain": [
       "           Date    Ticker        Close    change\n",
       "2476 2021-04-30  TRUSACOM  24939.03088  0.071176\n",
       "2477 2021-05-31  TRUSACOM  25085.37624  0.069482\n",
       "2478 2021-06-30  TRUSACOM  25731.63564  0.075825\n",
       "2479 2021-07-31  TRUSACOM  26053.91530  0.073213\n",
       "2480 2021-08-31  TRUSACOM  26108.41141  0.067205"
      ]
     },
     "execution_count": 411,
     "metadata": {},
     "output_type": "execute_result"
    }
   ],
   "source": [
    "df_corp_bonds.tail()"
   ]
  },
  {
   "cell_type": "code",
   "execution_count": 412,
   "metadata": {},
   "outputs": [],
   "source": [
    "# Remove first 120 rows (12 * 10) 10 years on monthly data\n",
    "df_corp_bonds_restricted = df_corp_bonds.iloc[120:, :]\n",
    "df_gov_bonds_restricted = df_gov_bonds.iloc[120:, :]"
   ]
  },
  {
   "cell_type": "code",
   "execution_count": 413,
   "metadata": {},
   "outputs": [
    {
     "data": {
      "text/plain": [
       "<matplotlib.legend.Legend at 0x7fbb20a7b910>"
      ]
     },
     "execution_count": 413,
     "metadata": {},
     "output_type": "execute_result"
    },
    {
     "data": {
      "image/png": "[encoded data removed]",
      "text/plain": [
       "<Figure size 1080x576 with 1 Axes>"
      ]
     },
     "metadata": {},
     "output_type": "display_data"
    }
   ],
   "source": [
    "sns.set(style=\"darkgrid\")\n",
    "plt.figure(figsize=(15,8))\n",
    "sns.lineplot(data=df_gov_bonds, x=\"Date\", y=\"change\")\n",
    "sns.lineplot(data=df_corp_bonds, x=\"Date\", y=\"change\")\n",
    "plt.legend(labels=[\"Government Bonds\",\"AAA corp bonds\"])"
   ]
  },
  {
   "cell_type": "code",
   "execution_count": 414,
   "metadata": {},
   "outputs": [],
   "source": [
    "df_sp = pd.read_csv(\"original SP 500 Total Return Index (GFD Indices) 2021_09_15.csv\")\n",
    "df_sp['Date'] = pd.to_datetime(df_sp['Date'])\n",
    "\n",
    "df_sp = df_sp[df_sp[\"Date\"] >= datetime(1949, 12, 1)] # Post wwii\n",
    "# Rolling 10 year return S&P 500\n",
    "df_sp[\"change\"] = (df_sp[\"Close\"] - df_sp[\"Close\"].shift(120)) / df_sp[\"Close\"] / 10\n",
    "df_sp[\"change\"] = (df_sp[\"Close\"] - df_sp[\"Close\"].shift(120)) / (df_sp[\"Close\"].shift(120)) / 10\n",
    "# Remove first 10 years \n",
    "df_sp_restricted = df_sp.iloc[120:-1, :]"
   ]
  },
  {
   "cell_type": "code",
   "execution_count": 415,
   "metadata": {},
   "outputs": [
    {
     "data": {
      "text/html": [
       "<div>\n",
       "<style scoped>\n",
       "    .dataframe tbody tr th:only-of-type {\n",
       "        vertical-align: middle;\n",
       "    }\n",
       "\n",
       "    .dataframe tbody tr th {\n",
       "        vertical-align: top;\n",
       "    }\n",
       "\n",
       "    .dataframe thead th {\n",
       "        text-align: right;\n",
       "    }\n",
       "</style>\n",
       "<table border=\"1\" class=\"dataframe\">\n",
       "  <thead>\n",
       "    <tr style=\"text-align: right;\">\n",
       "      <th></th>\n",
       "      <th>Date</th>\n",
       "      <th>Ticker</th>\n",
       "      <th>Close</th>\n",
       "      <th>change</th>\n",
       "    </tr>\n",
       "  </thead>\n",
       "  <tbody>\n",
       "    <tr>\n",
       "      <td>1067</td>\n",
       "      <td>1959-12-31</td>\n",
       "      <td>GFTRUSASTD</td>\n",
       "      <td>20.502457</td>\n",
       "      <td>0.482153</td>\n",
       "    </tr>\n",
       "    <tr>\n",
       "      <td>1068</td>\n",
       "      <td>1960-01-31</td>\n",
       "      <td>GFTRUSASTD</td>\n",
       "      <td>19.092629</td>\n",
       "      <td>0.429872</td>\n",
       "    </tr>\n",
       "    <tr>\n",
       "      <td>1069</td>\n",
       "      <td>1960-02-29</td>\n",
       "      <td>GFTRUSASTD</td>\n",
       "      <td>19.323283</td>\n",
       "      <td>0.427992</td>\n",
       "    </tr>\n",
       "    <tr>\n",
       "      <td>1070</td>\n",
       "      <td>1960-03-31</td>\n",
       "      <td>GFTRUSASTD</td>\n",
       "      <td>19.110448</td>\n",
       "      <td>0.417145</td>\n",
       "    </tr>\n",
       "    <tr>\n",
       "      <td>1071</td>\n",
       "      <td>1960-04-30</td>\n",
       "      <td>GFTRUSASTD</td>\n",
       "      <td>18.831650</td>\n",
       "      <td>0.384920</td>\n",
       "    </tr>\n",
       "    <tr>\n",
       "      <td>...</td>\n",
       "      <td>...</td>\n",
       "      <td>...</td>\n",
       "      <td>...</td>\n",
       "      <td>...</td>\n",
       "    </tr>\n",
       "    <tr>\n",
       "      <td>1803</td>\n",
       "      <td>2021-04-30</td>\n",
       "      <td>GFTRUSASTD</td>\n",
       "      <td>8678.160000</td>\n",
       "      <td>0.276369</td>\n",
       "    </tr>\n",
       "    <tr>\n",
       "      <td>1804</td>\n",
       "      <td>2021-05-31</td>\n",
       "      <td>GFTRUSASTD</td>\n",
       "      <td>8738.770000</td>\n",
       "      <td>0.283337</td>\n",
       "    </tr>\n",
       "    <tr>\n",
       "      <td>1805</td>\n",
       "      <td>2021-06-30</td>\n",
       "      <td>GFTRUSASTD</td>\n",
       "      <td>8942.780000</td>\n",
       "      <td>0.298936</td>\n",
       "    </tr>\n",
       "    <tr>\n",
       "      <td>1806</td>\n",
       "      <td>2021-07-31</td>\n",
       "      <td>GFTRUSASTD</td>\n",
       "      <td>9155.210000</td>\n",
       "      <td>0.316889</td>\n",
       "    </tr>\n",
       "    <tr>\n",
       "      <td>1807</td>\n",
       "      <td>2021-08-31</td>\n",
       "      <td>GFTRUSASTD</td>\n",
       "      <td>9433.580000</td>\n",
       "      <td>0.354241</td>\n",
       "    </tr>\n",
       "  </tbody>\n",
       "</table>\n",
       "<p>741 rows × 4 columns</p>\n",
       "</div>"
      ],
      "text/plain": [
       "           Date      Ticker        Close    change\n",
       "1067 1959-12-31  GFTRUSASTD    20.502457  0.482153\n",
       "1068 1960-01-31  GFTRUSASTD    19.092629  0.429872\n",
       "1069 1960-02-29  GFTRUSASTD    19.323283  0.427992\n",
       "1070 1960-03-31  GFTRUSASTD    19.110448  0.417145\n",
       "1071 1960-04-30  GFTRUSASTD    18.831650  0.384920\n",
       "...         ...         ...          ...       ...\n",
       "1803 2021-04-30  GFTRUSASTD  8678.160000  0.276369\n",
       "1804 2021-05-31  GFTRUSASTD  8738.770000  0.283337\n",
       "1805 2021-06-30  GFTRUSASTD  8942.780000  0.298936\n",
       "1806 2021-07-31  GFTRUSASTD  9155.210000  0.316889\n",
       "1807 2021-08-31  GFTRUSASTD  9433.580000  0.354241\n",
       "\n",
       "[741 rows x 4 columns]"
      ]
     },
     "execution_count": 415,
     "metadata": {},
     "output_type": "execute_result"
    }
   ],
   "source": [
    "df_sp_restricted"
   ]
  },
  {
   "cell_type": "code",
   "execution_count": 416,
   "metadata": {},
   "outputs": [
    {
     "data": {
      "text/html": [
       "<div>\n",
       "<style scoped>\n",
       "    .dataframe tbody tr th:only-of-type {\n",
       "        vertical-align: middle;\n",
       "    }\n",
       "\n",
       "    .dataframe tbody tr th {\n",
       "        vertical-align: top;\n",
       "    }\n",
       "\n",
       "    .dataframe thead th {\n",
       "        text-align: right;\n",
       "    }\n",
       "</style>\n",
       "<table border=\"1\" class=\"dataframe\">\n",
       "  <thead>\n",
       "    <tr style=\"text-align: right;\">\n",
       "      <th></th>\n",
       "      <th>Date</th>\n",
       "      <th>Ticker</th>\n",
       "      <th>Close</th>\n",
       "      <th>change</th>\n",
       "    </tr>\n",
       "  </thead>\n",
       "  <tbody>\n",
       "    <tr>\n",
       "      <td>2081</td>\n",
       "      <td>1959-12-31</td>\n",
       "      <td>TRUSG10M</td>\n",
       "      <td>238.418534</td>\n",
       "      <td>0.003924</td>\n",
       "    </tr>\n",
       "    <tr>\n",
       "      <td>2082</td>\n",
       "      <td>1960-01-31</td>\n",
       "      <td>TRUSG10M</td>\n",
       "      <td>238.776081</td>\n",
       "      <td>0.004859</td>\n",
       "    </tr>\n",
       "    <tr>\n",
       "      <td>2083</td>\n",
       "      <td>1960-02-29</td>\n",
       "      <td>TRUSG10M</td>\n",
       "      <td>244.177764</td>\n",
       "      <td>0.007253</td>\n",
       "    </tr>\n",
       "    <tr>\n",
       "      <td>2084</td>\n",
       "      <td>1960-03-31</td>\n",
       "      <td>TRUSG10M</td>\n",
       "      <td>249.871368</td>\n",
       "      <td>0.009775</td>\n",
       "    </tr>\n",
       "    <tr>\n",
       "      <td>2085</td>\n",
       "      <td>1960-04-30</td>\n",
       "      <td>TRUSG10M</td>\n",
       "      <td>250.150683</td>\n",
       "      <td>0.010212</td>\n",
       "    </tr>\n",
       "    <tr>\n",
       "      <td>...</td>\n",
       "      <td>...</td>\n",
       "      <td>...</td>\n",
       "      <td>...</td>\n",
       "      <td>...</td>\n",
       "    </tr>\n",
       "    <tr>\n",
       "      <td>2817</td>\n",
       "      <td>2021-04-30</td>\n",
       "      <td>TRUSG10M</td>\n",
       "      <td>11240.674318</td>\n",
       "      <td>0.041995</td>\n",
       "    </tr>\n",
       "    <tr>\n",
       "      <td>2818</td>\n",
       "      <td>2021-05-31</td>\n",
       "      <td>TRUSG10M</td>\n",
       "      <td>11328.544167</td>\n",
       "      <td>0.038417</td>\n",
       "    </tr>\n",
       "    <tr>\n",
       "      <td>2819</td>\n",
       "      <td>2021-06-30</td>\n",
       "      <td>TRUSG10M</td>\n",
       "      <td>11479.487256</td>\n",
       "      <td>0.043039</td>\n",
       "    </tr>\n",
       "    <tr>\n",
       "      <td>2820</td>\n",
       "      <td>2021-07-31</td>\n",
       "      <td>TRUSG10M</td>\n",
       "      <td>11717.174359</td>\n",
       "      <td>0.040743</td>\n",
       "    </tr>\n",
       "    <tr>\n",
       "      <td>2821</td>\n",
       "      <td>2021-08-31</td>\n",
       "      <td>TRUSG10M</td>\n",
       "      <td>11664.782455</td>\n",
       "      <td>0.031997</td>\n",
       "    </tr>\n",
       "  </tbody>\n",
       "</table>\n",
       "<p>741 rows × 4 columns</p>\n",
       "</div>"
      ],
      "text/plain": [
       "           Date    Ticker         Close    change\n",
       "2081 1959-12-31  TRUSG10M    238.418534  0.003924\n",
       "2082 1960-01-31  TRUSG10M    238.776081  0.004859\n",
       "2083 1960-02-29  TRUSG10M    244.177764  0.007253\n",
       "2084 1960-03-31  TRUSG10M    249.871368  0.009775\n",
       "2085 1960-04-30  TRUSG10M    250.150683  0.010212\n",
       "...         ...       ...           ...       ...\n",
       "2817 2021-04-30  TRUSG10M  11240.674318  0.041995\n",
       "2818 2021-05-31  TRUSG10M  11328.544167  0.038417\n",
       "2819 2021-06-30  TRUSG10M  11479.487256  0.043039\n",
       "2820 2021-07-31  TRUSG10M  11717.174359  0.040743\n",
       "2821 2021-08-31  TRUSG10M  11664.782455  0.031997\n",
       "\n",
       "[741 rows x 4 columns]"
      ]
     },
     "execution_count": 416,
     "metadata": {},
     "output_type": "execute_result"
    }
   ],
   "source": [
    "df_gov_bonds_restricted"
   ]
  },
  {
   "cell_type": "code",
   "execution_count": 417,
   "metadata": {},
   "outputs": [],
   "source": [
    "df_gov_bonds_restricted = df_gov_bonds_restricted.set_index('Date')\n",
    "df_sp_restricted = df_sp_restricted.set_index('Date')"
   ]
  },
  {
   "cell_type": "code",
   "execution_count": 418,
   "metadata": {},
   "outputs": [
    {
     "data": {
      "text/plain": [
       "<matplotlib.axes._subplots.AxesSubplot at 0x7fbb625e1190>"
      ]
     },
     "execution_count": 418,
     "metadata": {},
     "output_type": "execute_result"
    },
    {
     "data": {
      "image/png": "[encoded data removed]",
      "text/plain": [
       "<Figure size 432x288 with 1 Axes>"
      ]
     },
     "metadata": {},
     "output_type": "display_data"
    }
   ],
   "source": [
    "# Rolling correlation \n",
    "df_gov_bonds_restricted[\"change\"].rolling(120).corr(df_sp_restricted[\"change\"]).fillna(0).plot()"
   ]
  },
  {
   "cell_type": "code",
   "execution_count": null,
   "metadata": {},
   "outputs": [],
   "source": []
  }
 ],
 "metadata": {
  "kernelspec": {
   "display_name": "Python 3",
   "language": "python",
   "name": "python3"
  },
  "language_info": {
   "codemirror_mode": {
    "name": "ipython",
    "version": 3
   },
   "file_extension": ".py",
   "mimetype": "text/x-python",
   "name": "python",
   "nbconvert_exporter": "python",
   "pygments_lexer": "ipython3",
   "version": "3.7.6"
  }
 },
 "nbformat": 4,
 "nbformat_minor": 4
}
